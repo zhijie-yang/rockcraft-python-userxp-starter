{
 "cells": [
  {
   "cell_type": "code",
   "execution_count": null,
   "metadata": {},
   "outputs": [],
   "source": [
    "# import cv2\n",
    "import matplotlib.pyplot as plt\n",
    "import torch\n",
    "import torch.nn.functional as F\n",
    "import torchvision.transforms as transforms\n",
    "from PIL import Image"
   ]
  },
  {
   "cell_type": "code",
   "execution_count": null,
   "metadata": {},
   "outputs": [],
   "source": [
    "img = Image.open('img.png')\n",
    "plt.figure(figsize=(8, 4))  # Adjust the figure size (width, height)\n",
    "plt.imshow(img)\n",
    "plt.axis('off')  # Turn off axis labels\n",
    "plt.show()"
   ]
  },
  {
   "cell_type": "code",
   "execution_count": null,
   "metadata": {},
   "outputs": [],
   "source": [
    "img = img.convert('L') # to greyscal\n",
    "# Convert to tensor\n",
    "transform = transforms.ToTensor()\n",
    "img_tensor = transform(img).unsqueeze(0)  # Add batch dimension"
   ]
  },
  {
   "cell_type": "code",
   "execution_count": null,
   "metadata": {},
   "outputs": [],
   "source": [
    "# Define the Sobel filter kernels\n",
    "sobel_x = torch.tensor([[-1., 0., 1.], \n",
    "                        [-2., 0., 2.], \n",
    "                        [-1., 0., 1.]]).unsqueeze(0).unsqueeze(0)  # Shape (1, 1, 3, 3)\n",
    "\n",
    "sobel_y = torch.tensor([[-1., -2., -1.], \n",
    "                        [ 0.,  0.,  0.], \n",
    "                        [ 1.,  2.,  1.]]).unsqueeze(0).unsqueeze(0)  # Shape (1, 1, 3, 3)"
   ]
  },
  {
   "cell_type": "code",
   "execution_count": null,
   "metadata": {},
   "outputs": [],
   "source": [
    "# Apply the Sobel filter using convolution\n",
    "grad_x = F.conv2d(img_tensor, sobel_x, padding=1)\n",
    "grad_y = F.conv2d(img_tensor, sobel_y, padding=1)\n",
    "\n",
    "# Compute the gradient magnitude\n",
    "grad_magnitude = torch.sqrt(grad_x**2 + grad_y**2)"
   ]
  },
  {
   "cell_type": "code",
   "execution_count": null,
   "metadata": {},
   "outputs": [],
   "source": [
    "grad_img = transforms.ToPILImage()(grad_magnitude.squeeze(0))\n",
    "plt.imshow(img, cmap='gray')"
   ]
  },
  {
   "cell_type": "code",
   "execution_count": null,
   "metadata": {},
   "outputs": [],
   "source": []
  }
 ],
 "metadata": {
  "kernelspec": {
   "display_name": "Python 3 (ipykernel)",
   "language": "python",
   "name": "python3"
  },
  "language_info": {
   "codemirror_mode": {
    "name": "ipython",
    "version": 3
   },
   "file_extension": ".py",
   "mimetype": "text/x-python",
   "name": "python",
   "nbconvert_exporter": "python",
   "pygments_lexer": "ipython3",
   "version": "3.10.12"
  }
 },
 "nbformat": 4,
 "nbformat_minor": 4
}
